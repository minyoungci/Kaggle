{
 "cells": [
  {
   "cell_type": "code",
   "execution_count": 11,
   "id": "a5953b7a",
   "metadata": {},
   "outputs": [
    {
     "name": "stderr",
     "output_type": "stream",
     "text": [
      "/Users/minyoungxi/.local/lib/python3.9/site-packages/geopandas/_compat.py:123: UserWarning:\n",
      "\n",
      "The Shapely GEOS version (3.10.3-CAPI-1.16.1) is incompatible with the GEOS version PyGEOS was compiled with (3.8.0-CAPI-1.13.1). Conversions between both will be slow.\n",
      "\n"
     ]
    },
    {
     "data": {
      "text/html": [
       "        <script type=\"text/javascript\">\n",
       "        window.PlotlyConfig = {MathJaxConfig: 'local'};\n",
       "        if (window.MathJax && window.MathJax.Hub && window.MathJax.Hub.Config) {window.MathJax.Hub.Config({SVG: {font: \"STIX-Web\"}});}\n",
       "        if (typeof require !== 'undefined') {\n",
       "        require.undef(\"plotly\");\n",
       "        requirejs.config({\n",
       "            paths: {\n",
       "                'plotly': ['https://cdn.plot.ly/plotly-2.16.1.min']\n",
       "            }\n",
       "        });\n",
       "        require(['plotly'], function(Plotly) {\n",
       "            window._Plotly = Plotly;\n",
       "        });\n",
       "        }\n",
       "        </script>\n",
       "        "
      ]
     },
     "metadata": {},
     "output_type": "display_data"
    }
   ],
   "source": [
    "from plotly.offline import init_notebook_mode, iplot_mpl, download_plotlyjs, plot, iplot\n",
    "\n",
    "%matplotlib inline\n",
    "import numpy as np\n",
    "import plotly_express as px\n",
    "import plotly.figure_factory as ff\n",
    "import matplotlib.pyplot as plt\n",
    "import plotly.graph_objects as go\n",
    "from plotly.subplots import make_subplots\n",
    "import warnings\n",
    "warnings.filterwarnings('ignore')\n",
    "init_notebook_mode(connected=True)\n",
    "from sklearn.preprocessing import LabelEncoder\n",
    "from statsmodels.compat import lzip\n",
    "import statsmodels.api as sm\n",
    "import pandas as pd\n",
    "from sklearn.preprocessing import scale\n",
    "from pandas import DataFrame\n",
    "from sklearn.preprocessing import StandardScaler\n",
    "\n",
    "plt.rcParams['figure.dpi'] = 300\n",
    "%config InlineBackend.figure_format = 'svg'"
   ]
  },
  {
   "cell_type": "code",
   "execution_count": 24,
   "id": "4e881196",
   "metadata": {
    "scrolled": false
   },
   "outputs": [
    {
     "data": {
      "text/html": [
       "<div>\n",
       "<style scoped>\n",
       "    .dataframe tbody tr th:only-of-type {\n",
       "        vertical-align: middle;\n",
       "    }\n",
       "\n",
       "    .dataframe tbody tr th {\n",
       "        vertical-align: top;\n",
       "    }\n",
       "\n",
       "    .dataframe thead th {\n",
       "        text-align: right;\n",
       "    }\n",
       "</style>\n",
       "<table border=\"1\" class=\"dataframe\">\n",
       "  <thead>\n",
       "    <tr style=\"text-align: right;\">\n",
       "      <th></th>\n",
       "      <th>id</th>\n",
       "      <th>year</th>\n",
       "      <th>wave</th>\n",
       "      <th>region</th>\n",
       "      <th>income</th>\n",
       "      <th>family_member</th>\n",
       "      <th>gender</th>\n",
       "      <th>year_born</th>\n",
       "      <th>education_level</th>\n",
       "      <th>marriage</th>\n",
       "      <th>religion</th>\n",
       "      <th>occupation</th>\n",
       "      <th>company_size</th>\n",
       "      <th>reason_none_worker</th>\n",
       "    </tr>\n",
       "  </thead>\n",
       "  <tbody>\n",
       "    <tr>\n",
       "      <th>0</th>\n",
       "      <td>10101</td>\n",
       "      <td>2005</td>\n",
       "      <td>1</td>\n",
       "      <td>1</td>\n",
       "      <td>614.0</td>\n",
       "      <td>1</td>\n",
       "      <td>2</td>\n",
       "      <td>1936</td>\n",
       "      <td>2</td>\n",
       "      <td>2</td>\n",
       "      <td>2</td>\n",
       "      <td></td>\n",
       "      <td></td>\n",
       "      <td>8</td>\n",
       "    </tr>\n",
       "    <tr>\n",
       "      <th>1</th>\n",
       "      <td>10101</td>\n",
       "      <td>2011</td>\n",
       "      <td>7</td>\n",
       "      <td>1</td>\n",
       "      <td>896.0</td>\n",
       "      <td>1</td>\n",
       "      <td>2</td>\n",
       "      <td>1936</td>\n",
       "      <td>2</td>\n",
       "      <td>2</td>\n",
       "      <td>2</td>\n",
       "      <td></td>\n",
       "      <td></td>\n",
       "      <td>10</td>\n",
       "    </tr>\n",
       "    <tr>\n",
       "      <th>2</th>\n",
       "      <td>10101</td>\n",
       "      <td>2012</td>\n",
       "      <td>8</td>\n",
       "      <td>1</td>\n",
       "      <td>1310.0</td>\n",
       "      <td>1</td>\n",
       "      <td>2</td>\n",
       "      <td>1936</td>\n",
       "      <td>2</td>\n",
       "      <td>2</td>\n",
       "      <td>2</td>\n",
       "      <td></td>\n",
       "      <td></td>\n",
       "      <td>10</td>\n",
       "    </tr>\n",
       "    <tr>\n",
       "      <th>3</th>\n",
       "      <td>10101</td>\n",
       "      <td>2013</td>\n",
       "      <td>9</td>\n",
       "      <td>1</td>\n",
       "      <td>2208.0</td>\n",
       "      <td>1</td>\n",
       "      <td>2</td>\n",
       "      <td>1936</td>\n",
       "      <td>2</td>\n",
       "      <td>2</td>\n",
       "      <td>2</td>\n",
       "      <td></td>\n",
       "      <td></td>\n",
       "      <td>1</td>\n",
       "    </tr>\n",
       "    <tr>\n",
       "      <th>4</th>\n",
       "      <td>10101</td>\n",
       "      <td>2014</td>\n",
       "      <td>10</td>\n",
       "      <td>1</td>\n",
       "      <td>864.0</td>\n",
       "      <td>1</td>\n",
       "      <td>2</td>\n",
       "      <td>1936</td>\n",
       "      <td>2</td>\n",
       "      <td>2</td>\n",
       "      <td>2</td>\n",
       "      <td></td>\n",
       "      <td></td>\n",
       "      <td>10</td>\n",
       "    </tr>\n",
       "    <tr>\n",
       "      <th>...</th>\n",
       "      <td>...</td>\n",
       "      <td>...</td>\n",
       "      <td>...</td>\n",
       "      <td>...</td>\n",
       "      <td>...</td>\n",
       "      <td>...</td>\n",
       "      <td>...</td>\n",
       "      <td>...</td>\n",
       "      <td>...</td>\n",
       "      <td>...</td>\n",
       "      <td>...</td>\n",
       "      <td>...</td>\n",
       "      <td>...</td>\n",
       "      <td>...</td>\n",
       "    </tr>\n",
       "    <tr>\n",
       "      <th>92852</th>\n",
       "      <td>98000701</td>\n",
       "      <td>2014</td>\n",
       "      <td>10</td>\n",
       "      <td>5</td>\n",
       "      <td>11600.0</td>\n",
       "      <td>6</td>\n",
       "      <td>1</td>\n",
       "      <td>1967</td>\n",
       "      <td>5</td>\n",
       "      <td>1</td>\n",
       "      <td>1</td>\n",
       "      <td>874</td>\n",
       "      <td>1</td>\n",
       "      <td></td>\n",
       "    </tr>\n",
       "    <tr>\n",
       "      <th>92853</th>\n",
       "      <td>98000701</td>\n",
       "      <td>2015</td>\n",
       "      <td>11</td>\n",
       "      <td>5</td>\n",
       "      <td>8327.0</td>\n",
       "      <td>6</td>\n",
       "      <td>1</td>\n",
       "      <td>1967</td>\n",
       "      <td>5</td>\n",
       "      <td>1</td>\n",
       "      <td>1</td>\n",
       "      <td>874</td>\n",
       "      <td>1</td>\n",
       "      <td></td>\n",
       "    </tr>\n",
       "    <tr>\n",
       "      <th>92854</th>\n",
       "      <td>98000701</td>\n",
       "      <td>2016</td>\n",
       "      <td>12</td>\n",
       "      <td>5</td>\n",
       "      <td>7931.0</td>\n",
       "      <td>6</td>\n",
       "      <td>1</td>\n",
       "      <td>1967</td>\n",
       "      <td>5</td>\n",
       "      <td>1</td>\n",
       "      <td>1</td>\n",
       "      <td>874</td>\n",
       "      <td>1</td>\n",
       "      <td></td>\n",
       "    </tr>\n",
       "    <tr>\n",
       "      <th>92855</th>\n",
       "      <td>98000701</td>\n",
       "      <td>2017</td>\n",
       "      <td>13</td>\n",
       "      <td>5</td>\n",
       "      <td>8802.0</td>\n",
       "      <td>5</td>\n",
       "      <td>1</td>\n",
       "      <td>1967</td>\n",
       "      <td>5</td>\n",
       "      <td>1</td>\n",
       "      <td>1</td>\n",
       "      <td>874</td>\n",
       "      <td>1</td>\n",
       "      <td></td>\n",
       "    </tr>\n",
       "    <tr>\n",
       "      <th>92856</th>\n",
       "      <td>98000701</td>\n",
       "      <td>2018</td>\n",
       "      <td>14</td>\n",
       "      <td>5</td>\n",
       "      <td>6747.0</td>\n",
       "      <td>6</td>\n",
       "      <td>1</td>\n",
       "      <td>1967</td>\n",
       "      <td>5</td>\n",
       "      <td>1</td>\n",
       "      <td>1</td>\n",
       "      <td>874</td>\n",
       "      <td>1</td>\n",
       "      <td></td>\n",
       "    </tr>\n",
       "  </tbody>\n",
       "</table>\n",
       "<p>92857 rows × 14 columns</p>\n",
       "</div>"
      ],
      "text/plain": [
       "             id  year  wave  region   income  family_member  gender  \\\n",
       "0         10101  2005     1       1    614.0              1       2   \n",
       "1         10101  2011     7       1    896.0              1       2   \n",
       "2         10101  2012     8       1   1310.0              1       2   \n",
       "3         10101  2013     9       1   2208.0              1       2   \n",
       "4         10101  2014    10       1    864.0              1       2   \n",
       "...         ...   ...   ...     ...      ...            ...     ...   \n",
       "92852  98000701  2014    10       5  11600.0              6       1   \n",
       "92853  98000701  2015    11       5   8327.0              6       1   \n",
       "92854  98000701  2016    12       5   7931.0              6       1   \n",
       "92855  98000701  2017    13       5   8802.0              5       1   \n",
       "92856  98000701  2018    14       5   6747.0              6       1   \n",
       "\n",
       "       year_born  education_level  marriage  religion occupation company_size  \\\n",
       "0           1936                2         2         2                           \n",
       "1           1936                2         2         2                           \n",
       "2           1936                2         2         2                           \n",
       "3           1936                2         2         2                           \n",
       "4           1936                2         2         2                           \n",
       "...          ...              ...       ...       ...        ...          ...   \n",
       "92852       1967                5         1         1        874            1   \n",
       "92853       1967                5         1         1        874            1   \n",
       "92854       1967                5         1         1        874            1   \n",
       "92855       1967                5         1         1        874            1   \n",
       "92856       1967                5         1         1        874            1   \n",
       "\n",
       "      reason_none_worker  \n",
       "0                      8  \n",
       "1                     10  \n",
       "2                     10  \n",
       "3                      1  \n",
       "4                     10  \n",
       "...                  ...  \n",
       "92852                     \n",
       "92853                     \n",
       "92854                     \n",
       "92855                     \n",
       "92856                     \n",
       "\n",
       "[92857 rows x 14 columns]"
      ]
     },
     "execution_count": 24,
     "metadata": {},
     "output_type": "execute_result"
    }
   ],
   "source": [
    "df = pd.read_csv(\"Korea_income_welfare.csv\")\n",
    "df"
   ]
  },
  {
   "cell_type": "code",
   "execution_count": 12,
   "id": "142de96a",
   "metadata": {},
   "outputs": [],
   "source": [
    "df=df.drop(df[df.income <0].index)\n",
    "\n",
    "#region (codificamos correctamente todos los datos)\n",
    "df.loc[df['region'] == 1, 'region'] = 'Seoul'\n",
    "df.loc[df['region'] == 2, 'region'] = 'Kyeong-gi'\n",
    "df.loc[df['region'] == 3, 'region'] = 'Kyoung-nam'\n",
    "df.loc[df['region'] == 4, 'region'] = 'Kyong-buk'\n",
    "df.loc[df['region'] == 5, 'region'] = 'Chong-nam'\n",
    "df.loc[df['region'] == 6, 'region'] = 'Gang-won'\n",
    "df.loc[df['region'] == 7, 'region'] = 'Jeju'\n",
    "\n",
    "#gender\n",
    "df.loc[df['gender'] == 1, 'gender'] = 'male'\n",
    "df.loc[df['gender'] == 2, 'gender'] = 'female'\n",
    "\n",
    "#religion\n",
    "df.loc[df['religion'] == 1, 'religion'] = 'religious'\n",
    "df.loc[df['religion'] == 2, 'religion'] = 'non-religious'\n",
    "\n",
    "df.loc[df['family_member'] > 7, 'family_member'] = 7\n",
    "\n",
    "\n",
    "# Calculate natural logarithm on\n",
    "# 'Salary' column\n",
    "df['log_income'] = np.log(df['income'])\n",
    "\n",
    "#eliminamos algunos valores con valores inf, -inf\n",
    "df=df[~df.isin([np.nan, np.inf, -np.inf]).any(1)]\n",
    "\n",
    "scale= StandardScaler()\n",
    "\n",
    "df['standarized income']=scale.fit_transform(df[['income']]) \n",
    "\n",
    "df1=df.copy()\n",
    "df1_males = df[df['gender']=='male']\n",
    "df1_females = df[df['gender']=='female']\n",
    "df1_males=df1_males.groupby(['year']).mean()\n",
    "df1_males['year']=df1_males.index\n",
    "df1_females=df1_females.groupby(['year']).mean()\n",
    "\n",
    "df1_females['year']=df1_females.index\n",
    "df2=pd.concat([df1_females, df1_males])\n",
    "df1_males['income females']=df1_females['income']\n",
    "df1_males['income males']=df1_males['income']\n",
    "df1_males.year=df1_males.year.astype(int)\n",
    "df=df[df['year']==2018]\n",
    "df.reset_index(inplace=True)\n",
    "df1_males['ratio females']=(df1_males['income females']/df1_males['income males']).round(2)"
   ]
  },
  {
   "cell_type": "code",
   "execution_count": 25,
   "id": "9d0a9c66",
   "metadata": {
    "scrolled": true
   },
   "outputs": [
    {
     "data": {
      "text/html": [
       "<div>\n",
       "<style scoped>\n",
       "    .dataframe tbody tr th:only-of-type {\n",
       "        vertical-align: middle;\n",
       "    }\n",
       "\n",
       "    .dataframe tbody tr th {\n",
       "        vertical-align: top;\n",
       "    }\n",
       "\n",
       "    .dataframe thead th {\n",
       "        text-align: right;\n",
       "    }\n",
       "</style>\n",
       "<table border=\"1\" class=\"dataframe\">\n",
       "  <thead>\n",
       "    <tr style=\"text-align: right;\">\n",
       "      <th></th>\n",
       "      <th>id</th>\n",
       "      <th>year</th>\n",
       "      <th>wave</th>\n",
       "      <th>region</th>\n",
       "      <th>income</th>\n",
       "      <th>family_member</th>\n",
       "      <th>gender</th>\n",
       "      <th>year_born</th>\n",
       "      <th>education_level</th>\n",
       "      <th>marriage</th>\n",
       "      <th>religion</th>\n",
       "      <th>occupation</th>\n",
       "      <th>company_size</th>\n",
       "      <th>reason_none_worker</th>\n",
       "    </tr>\n",
       "  </thead>\n",
       "  <tbody>\n",
       "    <tr>\n",
       "      <th>0</th>\n",
       "      <td>10101</td>\n",
       "      <td>2005</td>\n",
       "      <td>1</td>\n",
       "      <td>1</td>\n",
       "      <td>614.0</td>\n",
       "      <td>1</td>\n",
       "      <td>2</td>\n",
       "      <td>1936</td>\n",
       "      <td>2</td>\n",
       "      <td>2</td>\n",
       "      <td>2</td>\n",
       "      <td></td>\n",
       "      <td></td>\n",
       "      <td>8</td>\n",
       "    </tr>\n",
       "    <tr>\n",
       "      <th>1</th>\n",
       "      <td>10101</td>\n",
       "      <td>2011</td>\n",
       "      <td>7</td>\n",
       "      <td>1</td>\n",
       "      <td>896.0</td>\n",
       "      <td>1</td>\n",
       "      <td>2</td>\n",
       "      <td>1936</td>\n",
       "      <td>2</td>\n",
       "      <td>2</td>\n",
       "      <td>2</td>\n",
       "      <td></td>\n",
       "      <td></td>\n",
       "      <td>10</td>\n",
       "    </tr>\n",
       "    <tr>\n",
       "      <th>2</th>\n",
       "      <td>10101</td>\n",
       "      <td>2012</td>\n",
       "      <td>8</td>\n",
       "      <td>1</td>\n",
       "      <td>1310.0</td>\n",
       "      <td>1</td>\n",
       "      <td>2</td>\n",
       "      <td>1936</td>\n",
       "      <td>2</td>\n",
       "      <td>2</td>\n",
       "      <td>2</td>\n",
       "      <td></td>\n",
       "      <td></td>\n",
       "      <td>10</td>\n",
       "    </tr>\n",
       "    <tr>\n",
       "      <th>3</th>\n",
       "      <td>10101</td>\n",
       "      <td>2013</td>\n",
       "      <td>9</td>\n",
       "      <td>1</td>\n",
       "      <td>2208.0</td>\n",
       "      <td>1</td>\n",
       "      <td>2</td>\n",
       "      <td>1936</td>\n",
       "      <td>2</td>\n",
       "      <td>2</td>\n",
       "      <td>2</td>\n",
       "      <td></td>\n",
       "      <td></td>\n",
       "      <td>1</td>\n",
       "    </tr>\n",
       "    <tr>\n",
       "      <th>4</th>\n",
       "      <td>10101</td>\n",
       "      <td>2014</td>\n",
       "      <td>10</td>\n",
       "      <td>1</td>\n",
       "      <td>864.0</td>\n",
       "      <td>1</td>\n",
       "      <td>2</td>\n",
       "      <td>1936</td>\n",
       "      <td>2</td>\n",
       "      <td>2</td>\n",
       "      <td>2</td>\n",
       "      <td></td>\n",
       "      <td></td>\n",
       "      <td>10</td>\n",
       "    </tr>\n",
       "    <tr>\n",
       "      <th>...</th>\n",
       "      <td>...</td>\n",
       "      <td>...</td>\n",
       "      <td>...</td>\n",
       "      <td>...</td>\n",
       "      <td>...</td>\n",
       "      <td>...</td>\n",
       "      <td>...</td>\n",
       "      <td>...</td>\n",
       "      <td>...</td>\n",
       "      <td>...</td>\n",
       "      <td>...</td>\n",
       "      <td>...</td>\n",
       "      <td>...</td>\n",
       "      <td>...</td>\n",
       "    </tr>\n",
       "    <tr>\n",
       "      <th>92852</th>\n",
       "      <td>98000701</td>\n",
       "      <td>2014</td>\n",
       "      <td>10</td>\n",
       "      <td>5</td>\n",
       "      <td>11600.0</td>\n",
       "      <td>6</td>\n",
       "      <td>1</td>\n",
       "      <td>1967</td>\n",
       "      <td>5</td>\n",
       "      <td>1</td>\n",
       "      <td>1</td>\n",
       "      <td>874</td>\n",
       "      <td>1</td>\n",
       "      <td></td>\n",
       "    </tr>\n",
       "    <tr>\n",
       "      <th>92853</th>\n",
       "      <td>98000701</td>\n",
       "      <td>2015</td>\n",
       "      <td>11</td>\n",
       "      <td>5</td>\n",
       "      <td>8327.0</td>\n",
       "      <td>6</td>\n",
       "      <td>1</td>\n",
       "      <td>1967</td>\n",
       "      <td>5</td>\n",
       "      <td>1</td>\n",
       "      <td>1</td>\n",
       "      <td>874</td>\n",
       "      <td>1</td>\n",
       "      <td></td>\n",
       "    </tr>\n",
       "    <tr>\n",
       "      <th>92854</th>\n",
       "      <td>98000701</td>\n",
       "      <td>2016</td>\n",
       "      <td>12</td>\n",
       "      <td>5</td>\n",
       "      <td>7931.0</td>\n",
       "      <td>6</td>\n",
       "      <td>1</td>\n",
       "      <td>1967</td>\n",
       "      <td>5</td>\n",
       "      <td>1</td>\n",
       "      <td>1</td>\n",
       "      <td>874</td>\n",
       "      <td>1</td>\n",
       "      <td></td>\n",
       "    </tr>\n",
       "    <tr>\n",
       "      <th>92855</th>\n",
       "      <td>98000701</td>\n",
       "      <td>2017</td>\n",
       "      <td>13</td>\n",
       "      <td>5</td>\n",
       "      <td>8802.0</td>\n",
       "      <td>5</td>\n",
       "      <td>1</td>\n",
       "      <td>1967</td>\n",
       "      <td>5</td>\n",
       "      <td>1</td>\n",
       "      <td>1</td>\n",
       "      <td>874</td>\n",
       "      <td>1</td>\n",
       "      <td></td>\n",
       "    </tr>\n",
       "    <tr>\n",
       "      <th>92856</th>\n",
       "      <td>98000701</td>\n",
       "      <td>2018</td>\n",
       "      <td>14</td>\n",
       "      <td>5</td>\n",
       "      <td>6747.0</td>\n",
       "      <td>6</td>\n",
       "      <td>1</td>\n",
       "      <td>1967</td>\n",
       "      <td>5</td>\n",
       "      <td>1</td>\n",
       "      <td>1</td>\n",
       "      <td>874</td>\n",
       "      <td>1</td>\n",
       "      <td></td>\n",
       "    </tr>\n",
       "  </tbody>\n",
       "</table>\n",
       "<p>92857 rows × 14 columns</p>\n",
       "</div>"
      ],
      "text/plain": [
       "             id  year  wave  region   income  family_member  gender  \\\n",
       "0         10101  2005     1       1    614.0              1       2   \n",
       "1         10101  2011     7       1    896.0              1       2   \n",
       "2         10101  2012     8       1   1310.0              1       2   \n",
       "3         10101  2013     9       1   2208.0              1       2   \n",
       "4         10101  2014    10       1    864.0              1       2   \n",
       "...         ...   ...   ...     ...      ...            ...     ...   \n",
       "92852  98000701  2014    10       5  11600.0              6       1   \n",
       "92853  98000701  2015    11       5   8327.0              6       1   \n",
       "92854  98000701  2016    12       5   7931.0              6       1   \n",
       "92855  98000701  2017    13       5   8802.0              5       1   \n",
       "92856  98000701  2018    14       5   6747.0              6       1   \n",
       "\n",
       "       year_born  education_level  marriage  religion occupation company_size  \\\n",
       "0           1936                2         2         2                           \n",
       "1           1936                2         2         2                           \n",
       "2           1936                2         2         2                           \n",
       "3           1936                2         2         2                           \n",
       "4           1936                2         2         2                           \n",
       "...          ...              ...       ...       ...        ...          ...   \n",
       "92852       1967                5         1         1        874            1   \n",
       "92853       1967                5         1         1        874            1   \n",
       "92854       1967                5         1         1        874            1   \n",
       "92855       1967                5         1         1        874            1   \n",
       "92856       1967                5         1         1        874            1   \n",
       "\n",
       "      reason_none_worker  \n",
       "0                      8  \n",
       "1                     10  \n",
       "2                     10  \n",
       "3                      1  \n",
       "4                     10  \n",
       "...                  ...  \n",
       "92852                     \n",
       "92853                     \n",
       "92854                     \n",
       "92855                     \n",
       "92856                     \n",
       "\n",
       "[92857 rows x 14 columns]"
      ]
     },
     "execution_count": 25,
     "metadata": {},
     "output_type": "execute_result"
    }
   ],
   "source": [
    "df"
   ]
  },
  {
   "cell_type": "code",
   "execution_count": 32,
   "id": "c9acedac",
   "metadata": {},
   "outputs": [
    {
     "data": {
      "text/html": [
       "<div>\n",
       "<style scoped>\n",
       "    .dataframe tbody tr th:only-of-type {\n",
       "        vertical-align: middle;\n",
       "    }\n",
       "\n",
       "    .dataframe tbody tr th {\n",
       "        vertical-align: top;\n",
       "    }\n",
       "\n",
       "    .dataframe thead th {\n",
       "        text-align: right;\n",
       "    }\n",
       "</style>\n",
       "<table border=\"1\" class=\"dataframe\">\n",
       "  <thead>\n",
       "    <tr style=\"text-align: right;\">\n",
       "      <th></th>\n",
       "      <th>id</th>\n",
       "      <th>wave</th>\n",
       "      <th>income</th>\n",
       "      <th>family_member</th>\n",
       "      <th>year_born</th>\n",
       "      <th>education_level</th>\n",
       "      <th>marriage</th>\n",
       "      <th>log_income</th>\n",
       "      <th>standarized income</th>\n",
       "      <th>year</th>\n",
       "      <th>income females</th>\n",
       "      <th>income males</th>\n",
       "      <th>ratio females</th>\n",
       "    </tr>\n",
       "    <tr>\n",
       "      <th>year</th>\n",
       "      <th></th>\n",
       "      <th></th>\n",
       "      <th></th>\n",
       "      <th></th>\n",
       "      <th></th>\n",
       "      <th></th>\n",
       "      <th></th>\n",
       "      <th></th>\n",
       "      <th></th>\n",
       "      <th></th>\n",
       "      <th></th>\n",
       "      <th></th>\n",
       "      <th></th>\n",
       "    </tr>\n",
       "  </thead>\n",
       "  <tbody>\n",
       "    <tr>\n",
       "      <th>2005</th>\n",
       "      <td>3.510980e+07</td>\n",
       "      <td>1.0</td>\n",
       "      <td>2756.578127</td>\n",
       "      <td>3.009797</td>\n",
       "      <td>1953.646948</td>\n",
       "      <td>4.887151</td>\n",
       "      <td>1.360776</td>\n",
       "      <td>7.578049</td>\n",
       "      <td>-0.172458</td>\n",
       "      <td>2005</td>\n",
       "      <td>1090.355862</td>\n",
       "      <td>2756.578127</td>\n",
       "      <td>0.40</td>\n",
       "    </tr>\n",
       "    <tr>\n",
       "      <th>2006</th>\n",
       "      <td>3.558404e+07</td>\n",
       "      <td>2.0</td>\n",
       "      <td>3194.647115</td>\n",
       "      <td>3.008386</td>\n",
       "      <td>1953.705666</td>\n",
       "      <td>4.873798</td>\n",
       "      <td>1.378196</td>\n",
       "      <td>7.745685</td>\n",
       "      <td>-0.065103</td>\n",
       "      <td>2006</td>\n",
       "      <td>1244.054575</td>\n",
       "      <td>3194.647115</td>\n",
       "      <td>0.39</td>\n",
       "    </tr>\n",
       "    <tr>\n",
       "      <th>2007</th>\n",
       "      <td>3.578503e+07</td>\n",
       "      <td>3.0</td>\n",
       "      <td>3506.341199</td>\n",
       "      <td>2.989467</td>\n",
       "      <td>1953.901548</td>\n",
       "      <td>4.867154</td>\n",
       "      <td>1.384996</td>\n",
       "      <td>7.826672</td>\n",
       "      <td>0.011281</td>\n",
       "      <td>2007</td>\n",
       "      <td>1357.602558</td>\n",
       "      <td>3506.341199</td>\n",
       "      <td>0.39</td>\n",
       "    </tr>\n",
       "    <tr>\n",
       "      <th>2008</th>\n",
       "      <td>3.597257e+07</td>\n",
       "      <td>4.0</td>\n",
       "      <td>3700.392286</td>\n",
       "      <td>2.986114</td>\n",
       "      <td>1954.496143</td>\n",
       "      <td>4.891558</td>\n",
       "      <td>1.383513</td>\n",
       "      <td>7.912856</td>\n",
       "      <td>0.058835</td>\n",
       "      <td>2008</td>\n",
       "      <td>1494.715644</td>\n",
       "      <td>3700.392286</td>\n",
       "      <td>0.40</td>\n",
       "    </tr>\n",
       "    <tr>\n",
       "      <th>2009</th>\n",
       "      <td>3.606798e+07</td>\n",
       "      <td>5.0</td>\n",
       "      <td>3956.530667</td>\n",
       "      <td>2.970129</td>\n",
       "      <td>1955.044807</td>\n",
       "      <td>4.926700</td>\n",
       "      <td>1.391314</td>\n",
       "      <td>7.981823</td>\n",
       "      <td>0.121605</td>\n",
       "      <td>2009</td>\n",
       "      <td>1610.466408</td>\n",
       "      <td>3956.530667</td>\n",
       "      <td>0.41</td>\n",
       "    </tr>\n",
       "    <tr>\n",
       "      <th>2010</th>\n",
       "      <td>3.625001e+07</td>\n",
       "      <td>6.0</td>\n",
       "      <td>4161.694692</td>\n",
       "      <td>2.954155</td>\n",
       "      <td>1955.468252</td>\n",
       "      <td>4.954155</td>\n",
       "      <td>1.387105</td>\n",
       "      <td>8.042094</td>\n",
       "      <td>0.171883</td>\n",
       "      <td>2010</td>\n",
       "      <td>1648.923836</td>\n",
       "      <td>4161.694692</td>\n",
       "      <td>0.40</td>\n",
       "    </tr>\n",
       "    <tr>\n",
       "      <th>2011</th>\n",
       "      <td>4.825323e+07</td>\n",
       "      <td>7.0</td>\n",
       "      <td>4068.344785</td>\n",
       "      <td>2.878496</td>\n",
       "      <td>1955.324452</td>\n",
       "      <td>4.924792</td>\n",
       "      <td>1.378496</td>\n",
       "      <td>8.025678</td>\n",
       "      <td>0.149007</td>\n",
       "      <td>2011</td>\n",
       "      <td>1576.135592</td>\n",
       "      <td>4068.344785</td>\n",
       "      <td>0.39</td>\n",
       "    </tr>\n",
       "    <tr>\n",
       "      <th>2012</th>\n",
       "      <td>4.783791e+07</td>\n",
       "      <td>8.0</td>\n",
       "      <td>4339.856224</td>\n",
       "      <td>2.880612</td>\n",
       "      <td>1955.734758</td>\n",
       "      <td>4.952362</td>\n",
       "      <td>1.379533</td>\n",
       "      <td>8.090359</td>\n",
       "      <td>0.215544</td>\n",
       "      <td>2012</td>\n",
       "      <td>1637.072611</td>\n",
       "      <td>4339.856224</td>\n",
       "      <td>0.38</td>\n",
       "    </tr>\n",
       "    <tr>\n",
       "      <th>2013</th>\n",
       "      <td>4.752637e+07</td>\n",
       "      <td>9.0</td>\n",
       "      <td>4495.345609</td>\n",
       "      <td>2.865899</td>\n",
       "      <td>1956.144591</td>\n",
       "      <td>4.983340</td>\n",
       "      <td>1.373920</td>\n",
       "      <td>8.097349</td>\n",
       "      <td>0.253648</td>\n",
       "      <td>2013</td>\n",
       "      <td>1653.130281</td>\n",
       "      <td>4495.345609</td>\n",
       "      <td>0.37</td>\n",
       "    </tr>\n",
       "    <tr>\n",
       "      <th>2014</th>\n",
       "      <td>4.728881e+07</td>\n",
       "      <td>10.0</td>\n",
       "      <td>4671.351871</td>\n",
       "      <td>2.854503</td>\n",
       "      <td>1956.707307</td>\n",
       "      <td>5.019754</td>\n",
       "      <td>1.386576</td>\n",
       "      <td>8.134486</td>\n",
       "      <td>0.296781</td>\n",
       "      <td>2014</td>\n",
       "      <td>1654.458166</td>\n",
       "      <td>4671.351871</td>\n",
       "      <td>0.35</td>\n",
       "    </tr>\n",
       "    <tr>\n",
       "      <th>2015</th>\n",
       "      <td>4.729056e+07</td>\n",
       "      <td>11.0</td>\n",
       "      <td>4913.750848</td>\n",
       "      <td>2.828817</td>\n",
       "      <td>1957.199824</td>\n",
       "      <td>5.045164</td>\n",
       "      <td>1.398766</td>\n",
       "      <td>8.191105</td>\n",
       "      <td>0.356184</td>\n",
       "      <td>2015</td>\n",
       "      <td>1786.475219</td>\n",
       "      <td>4913.750848</td>\n",
       "      <td>0.36</td>\n",
       "    </tr>\n",
       "    <tr>\n",
       "      <th>2016</th>\n",
       "      <td>4.723487e+07</td>\n",
       "      <td>12.0</td>\n",
       "      <td>5105.351149</td>\n",
       "      <td>2.793723</td>\n",
       "      <td>1957.799636</td>\n",
       "      <td>5.064817</td>\n",
       "      <td>1.408915</td>\n",
       "      <td>8.247955</td>\n",
       "      <td>0.403138</td>\n",
       "      <td>2016</td>\n",
       "      <td>1909.470336</td>\n",
       "      <td>5105.351149</td>\n",
       "      <td>0.37</td>\n",
       "    </tr>\n",
       "    <tr>\n",
       "      <th>2017</th>\n",
       "      <td>4.715527e+07</td>\n",
       "      <td>13.0</td>\n",
       "      <td>5314.997675</td>\n",
       "      <td>2.762328</td>\n",
       "      <td>1958.347978</td>\n",
       "      <td>5.086703</td>\n",
       "      <td>1.428371</td>\n",
       "      <td>8.283929</td>\n",
       "      <td>0.454514</td>\n",
       "      <td>2017</td>\n",
       "      <td>2031.425445</td>\n",
       "      <td>5314.997675</td>\n",
       "      <td>0.38</td>\n",
       "    </tr>\n",
       "    <tr>\n",
       "      <th>2018</th>\n",
       "      <td>4.719696e+07</td>\n",
       "      <td>14.0</td>\n",
       "      <td>5435.828960</td>\n",
       "      <td>2.736399</td>\n",
       "      <td>1959.072220</td>\n",
       "      <td>5.118681</td>\n",
       "      <td>1.449928</td>\n",
       "      <td>8.308033</td>\n",
       "      <td>0.484125</td>\n",
       "      <td>2018</td>\n",
       "      <td>2089.102810</td>\n",
       "      <td>5435.828960</td>\n",
       "      <td>0.38</td>\n",
       "    </tr>\n",
       "  </tbody>\n",
       "</table>\n",
       "</div>"
      ],
      "text/plain": [
       "                id  wave       income  family_member    year_born  \\\n",
       "year                                                                \n",
       "2005  3.510980e+07   1.0  2756.578127       3.009797  1953.646948   \n",
       "2006  3.558404e+07   2.0  3194.647115       3.008386  1953.705666   \n",
       "2007  3.578503e+07   3.0  3506.341199       2.989467  1953.901548   \n",
       "2008  3.597257e+07   4.0  3700.392286       2.986114  1954.496143   \n",
       "2009  3.606798e+07   5.0  3956.530667       2.970129  1955.044807   \n",
       "2010  3.625001e+07   6.0  4161.694692       2.954155  1955.468252   \n",
       "2011  4.825323e+07   7.0  4068.344785       2.878496  1955.324452   \n",
       "2012  4.783791e+07   8.0  4339.856224       2.880612  1955.734758   \n",
       "2013  4.752637e+07   9.0  4495.345609       2.865899  1956.144591   \n",
       "2014  4.728881e+07  10.0  4671.351871       2.854503  1956.707307   \n",
       "2015  4.729056e+07  11.0  4913.750848       2.828817  1957.199824   \n",
       "2016  4.723487e+07  12.0  5105.351149       2.793723  1957.799636   \n",
       "2017  4.715527e+07  13.0  5314.997675       2.762328  1958.347978   \n",
       "2018  4.719696e+07  14.0  5435.828960       2.736399  1959.072220   \n",
       "\n",
       "      education_level  marriage  log_income  standarized income  year  \\\n",
       "year                                                                    \n",
       "2005         4.887151  1.360776    7.578049           -0.172458  2005   \n",
       "2006         4.873798  1.378196    7.745685           -0.065103  2006   \n",
       "2007         4.867154  1.384996    7.826672            0.011281  2007   \n",
       "2008         4.891558  1.383513    7.912856            0.058835  2008   \n",
       "2009         4.926700  1.391314    7.981823            0.121605  2009   \n",
       "2010         4.954155  1.387105    8.042094            0.171883  2010   \n",
       "2011         4.924792  1.378496    8.025678            0.149007  2011   \n",
       "2012         4.952362  1.379533    8.090359            0.215544  2012   \n",
       "2013         4.983340  1.373920    8.097349            0.253648  2013   \n",
       "2014         5.019754  1.386576    8.134486            0.296781  2014   \n",
       "2015         5.045164  1.398766    8.191105            0.356184  2015   \n",
       "2016         5.064817  1.408915    8.247955            0.403138  2016   \n",
       "2017         5.086703  1.428371    8.283929            0.454514  2017   \n",
       "2018         5.118681  1.449928    8.308033            0.484125  2018   \n",
       "\n",
       "      income females  income males  ratio females  \n",
       "year                                               \n",
       "2005     1090.355862   2756.578127           0.40  \n",
       "2006     1244.054575   3194.647115           0.39  \n",
       "2007     1357.602558   3506.341199           0.39  \n",
       "2008     1494.715644   3700.392286           0.40  \n",
       "2009     1610.466408   3956.530667           0.41  \n",
       "2010     1648.923836   4161.694692           0.40  \n",
       "2011     1576.135592   4068.344785           0.39  \n",
       "2012     1637.072611   4339.856224           0.38  \n",
       "2013     1653.130281   4495.345609           0.37  \n",
       "2014     1654.458166   4671.351871           0.35  \n",
       "2015     1786.475219   4913.750848           0.36  \n",
       "2016     1909.470336   5105.351149           0.37  \n",
       "2017     2031.425445   5314.997675           0.38  \n",
       "2018     2089.102810   5435.828960           0.38  "
      ]
     },
     "execution_count": 32,
     "metadata": {},
     "output_type": "execute_result"
    }
   ],
   "source": [
    "df1_males"
   ]
  },
  {
   "cell_type": "markdown",
   "id": "5d669b96",
   "metadata": {},
   "source": [
    "* Income - Dispersed between 468,209 Won and -232,174 Won, with the majority of income being below 5,000.\n",
    "\n",
    "* Marriage - There are values that are noted as 0 and 9 which do not have a description associated with it.\n",
    "\n",
    "* Religion - There should be binary (1 or 2). Currently there is a 9 in the column.\n",
    "\n",
    "* Occupation, Company_size, Reason_none_worker - Did not show up in the aggregated view. Based on this, it seems like there are some none numeric values in the column."
   ]
  },
  {
   "cell_type": "code",
   "execution_count": 22,
   "id": "be2f7021",
   "metadata": {},
   "outputs": [
    {
     "data": {
      "application/vnd.plotly.v1+json": {
       "config": {
        "plotlyServerURL": "https://plot.ly"
       },
       "data": [
        {
         "alignmentgroup": "True",
         "hovertemplate": "variable=income females<br>year=%{x}<br>value=%{y}<extra></extra>",
         "legendgroup": "income females",
         "marker": {
          "color": "#F8766D",
          "pattern": {
           "shape": ""
          }
         },
         "name": "income females",
         "offsetgroup": "income females",
         "orientation": "v",
         "showlegend": true,
         "textposition": "auto",
         "type": "bar",
         "x": [
          2005,
          2006,
          2007,
          2008,
          2009,
          2010,
          2011,
          2012,
          2013,
          2014,
          2015,
          2016,
          2017,
          2018
         ],
         "xaxis": "x",
         "y": [
          1090.3558616647128,
          1244.0545751062273,
          1357.6025578562728,
          1494.7156438026473,
          1610.4664076509264,
          1648.9238355609355,
          1576.135592459605,
          1637.0726114649683,
          1653.1302807179015,
          1654.458166058394,
          1786.4752187931829,
          1909.4703362505759,
          2031.4254454088625,
          2089.102809765085
         ],
         "yaxis": "y"
        },
        {
         "alignmentgroup": "True",
         "hovertemplate": "variable=income males<br>year=%{x}<br>value=%{y}<extra></extra>",
         "legendgroup": "income males",
         "marker": {
          "color": "#A3A500",
          "pattern": {
           "shape": ""
          }
         },
         "name": "income males",
         "offsetgroup": "income males",
         "orientation": "v",
         "showlegend": true,
         "textposition": "auto",
         "type": "bar",
         "x": [
          2005,
          2006,
          2007,
          2008,
          2009,
          2010,
          2011,
          2012,
          2013,
          2014,
          2015,
          2016,
          2017,
          2018
         ],
         "xaxis": "x",
         "y": [
          2756.578127354936,
          3194.6471150396746,
          3506.3411994840926,
          3700.392285651312,
          3956.53066707307,
          4161.69469179897,
          4068.344784580499,
          4339.856224269752,
          4495.3456088029625,
          4671.35187064571,
          4913.75084820445,
          5105.351148510348,
          5314.9976746903485,
          5435.828960038517
         ],
         "yaxis": "y"
        }
       ],
       "layout": {
        "barmode": "relative",
        "font": {
         "color": "black",
         "family": "Century, monospace"
        },
        "height": 400,
        "legend": {
         "title": {
          "text": "variable"
         },
         "tracegroupgap": 0
        },
        "margin": {
         "t": 60
        },
        "paper_bgcolor": "rgb(243, 243, 243)",
        "plot_bgcolor": "rgb(243, 243, 243)",
        "template": {
         "data": {
          "bar": [
           {
            "error_x": {
             "color": "rgb(51,51,51)"
            },
            "error_y": {
             "color": "rgb(51,51,51)"
            },
            "marker": {
             "line": {
              "color": "rgb(237,237,237)",
              "width": 0.5
             },
             "pattern": {
              "fillmode": "overlay",
              "size": 10,
              "solidity": 0.2
             }
            },
            "type": "bar"
           }
          ],
          "barpolar": [
           {
            "marker": {
             "line": {
              "color": "rgb(237,237,237)",
              "width": 0.5
             },
             "pattern": {
              "fillmode": "overlay",
              "size": 10,
              "solidity": 0.2
             }
            },
            "type": "barpolar"
           }
          ],
          "carpet": [
           {
            "aaxis": {
             "endlinecolor": "rgb(51,51,51)",
             "gridcolor": "white",
             "linecolor": "white",
             "minorgridcolor": "white",
             "startlinecolor": "rgb(51,51,51)"
            },
            "baxis": {
             "endlinecolor": "rgb(51,51,51)",
             "gridcolor": "white",
             "linecolor": "white",
             "minorgridcolor": "white",
             "startlinecolor": "rgb(51,51,51)"
            },
            "type": "carpet"
           }
          ],
          "choropleth": [
           {
            "colorbar": {
             "outlinewidth": 0,
             "tickcolor": "rgb(237,237,237)",
             "ticklen": 6,
             "ticks": "inside"
            },
            "type": "choropleth"
           }
          ],
          "contour": [
           {
            "colorbar": {
             "outlinewidth": 0,
             "tickcolor": "rgb(237,237,237)",
             "ticklen": 6,
             "ticks": "inside"
            },
            "colorscale": [
             [
              0,
              "rgb(20,44,66)"
             ],
             [
              1,
              "rgb(90,179,244)"
             ]
            ],
            "type": "contour"
           }
          ],
          "contourcarpet": [
           {
            "colorbar": {
             "outlinewidth": 0,
             "tickcolor": "rgb(237,237,237)",
             "ticklen": 6,
             "ticks": "inside"
            },
            "type": "contourcarpet"
           }
          ],
          "heatmap": [
           {
            "colorbar": {
             "outlinewidth": 0,
             "tickcolor": "rgb(237,237,237)",
             "ticklen": 6,
             "ticks": "inside"
            },
            "colorscale": [
             [
              0,
              "rgb(20,44,66)"
             ],
             [
              1,
              "rgb(90,179,244)"
             ]
            ],
            "type": "heatmap"
           }
          ],
          "heatmapgl": [
           {
            "colorbar": {
             "outlinewidth": 0,
             "tickcolor": "rgb(237,237,237)",
             "ticklen": 6,
             "ticks": "inside"
            },
            "colorscale": [
             [
              0,
              "rgb(20,44,66)"
             ],
             [
              1,
              "rgb(90,179,244)"
             ]
            ],
            "type": "heatmapgl"
           }
          ],
          "histogram": [
           {
            "marker": {
             "pattern": {
              "fillmode": "overlay",
              "size": 10,
              "solidity": 0.2
             }
            },
            "type": "histogram"
           }
          ],
          "histogram2d": [
           {
            "colorbar": {
             "outlinewidth": 0,
             "tickcolor": "rgb(237,237,237)",
             "ticklen": 6,
             "ticks": "inside"
            },
            "colorscale": [
             [
              0,
              "rgb(20,44,66)"
             ],
             [
              1,
              "rgb(90,179,244)"
             ]
            ],
            "type": "histogram2d"
           }
          ],
          "histogram2dcontour": [
           {
            "colorbar": {
             "outlinewidth": 0,
             "tickcolor": "rgb(237,237,237)",
             "ticklen": 6,
             "ticks": "inside"
            },
            "colorscale": [
             [
              0,
              "rgb(20,44,66)"
             ],
             [
              1,
              "rgb(90,179,244)"
             ]
            ],
            "type": "histogram2dcontour"
           }
          ],
          "mesh3d": [
           {
            "colorbar": {
             "outlinewidth": 0,
             "tickcolor": "rgb(237,237,237)",
             "ticklen": 6,
             "ticks": "inside"
            },
            "type": "mesh3d"
           }
          ],
          "parcoords": [
           {
            "line": {
             "colorbar": {
              "outlinewidth": 0,
              "tickcolor": "rgb(237,237,237)",
              "ticklen": 6,
              "ticks": "inside"
             }
            },
            "type": "parcoords"
           }
          ],
          "pie": [
           {
            "automargin": true,
            "type": "pie"
           }
          ],
          "scatter": [
           {
            "fillpattern": {
             "fillmode": "overlay",
             "size": 10,
             "solidity": 0.2
            },
            "type": "scatter"
           }
          ],
          "scatter3d": [
           {
            "line": {
             "colorbar": {
              "outlinewidth": 0,
              "tickcolor": "rgb(237,237,237)",
              "ticklen": 6,
              "ticks": "inside"
             }
            },
            "marker": {
             "colorbar": {
              "outlinewidth": 0,
              "tickcolor": "rgb(237,237,237)",
              "ticklen": 6,
              "ticks": "inside"
             }
            },
            "type": "scatter3d"
           }
          ],
          "scattercarpet": [
           {
            "marker": {
             "colorbar": {
              "outlinewidth": 0,
              "tickcolor": "rgb(237,237,237)",
              "ticklen": 6,
              "ticks": "inside"
             }
            },
            "type": "scattercarpet"
           }
          ],
          "scattergeo": [
           {
            "marker": {
             "colorbar": {
              "outlinewidth": 0,
              "tickcolor": "rgb(237,237,237)",
              "ticklen": 6,
              "ticks": "inside"
             }
            },
            "type": "scattergeo"
           }
          ],
          "scattergl": [
           {
            "marker": {
             "colorbar": {
              "outlinewidth": 0,
              "tickcolor": "rgb(237,237,237)",
              "ticklen": 6,
              "ticks": "inside"
             }
            },
            "type": "scattergl"
           }
          ],
          "scattermapbox": [
           {
            "marker": {
             "colorbar": {
              "outlinewidth": 0,
              "tickcolor": "rgb(237,237,237)",
              "ticklen": 6,
              "ticks": "inside"
             }
            },
            "type": "scattermapbox"
           }
          ],
          "scatterpolar": [
           {
            "marker": {
             "colorbar": {
              "outlinewidth": 0,
              "tickcolor": "rgb(237,237,237)",
              "ticklen": 6,
              "ticks": "inside"
             }
            },
            "type": "scatterpolar"
           }
          ],
          "scatterpolargl": [
           {
            "marker": {
             "colorbar": {
              "outlinewidth": 0,
              "tickcolor": "rgb(237,237,237)",
              "ticklen": 6,
              "ticks": "inside"
             }
            },
            "type": "scatterpolargl"
           }
          ],
          "scatterternary": [
           {
            "marker": {
             "colorbar": {
              "outlinewidth": 0,
              "tickcolor": "rgb(237,237,237)",
              "ticklen": 6,
              "ticks": "inside"
             }
            },
            "type": "scatterternary"
           }
          ],
          "surface": [
           {
            "colorbar": {
             "outlinewidth": 0,
             "tickcolor": "rgb(237,237,237)",
             "ticklen": 6,
             "ticks": "inside"
            },
            "colorscale": [
             [
              0,
              "rgb(20,44,66)"
             ],
             [
              1,
              "rgb(90,179,244)"
             ]
            ],
            "type": "surface"
           }
          ],
          "table": [
           {
            "cells": {
             "fill": {
              "color": "rgb(237,237,237)"
             },
             "line": {
              "color": "white"
             }
            },
            "header": {
             "fill": {
              "color": "rgb(217,217,217)"
             },
             "line": {
              "color": "white"
             }
            },
            "type": "table"
           }
          ]
         },
         "layout": {
          "annotationdefaults": {
           "arrowhead": 0,
           "arrowwidth": 1
          },
          "autotypenumbers": "strict",
          "coloraxis": {
           "colorbar": {
            "outlinewidth": 0,
            "tickcolor": "rgb(237,237,237)",
            "ticklen": 6,
            "ticks": "inside"
           }
          },
          "colorscale": {
           "sequential": [
            [
             0,
             "rgb(20,44,66)"
            ],
            [
             1,
             "rgb(90,179,244)"
            ]
           ],
           "sequentialminus": [
            [
             0,
             "rgb(20,44,66)"
            ],
            [
             1,
             "rgb(90,179,244)"
            ]
           ]
          },
          "colorway": [
           "#F8766D",
           "#A3A500",
           "#00BF7D",
           "#00B0F6",
           "#E76BF3"
          ],
          "font": {
           "color": "rgb(51,51,51)"
          },
          "geo": {
           "bgcolor": "white",
           "lakecolor": "white",
           "landcolor": "rgb(237,237,237)",
           "showlakes": true,
           "showland": true,
           "subunitcolor": "white"
          },
          "hoverlabel": {
           "align": "left"
          },
          "hovermode": "closest",
          "paper_bgcolor": "white",
          "plot_bgcolor": "rgb(237,237,237)",
          "polar": {
           "angularaxis": {
            "gridcolor": "white",
            "linecolor": "white",
            "showgrid": true,
            "tickcolor": "rgb(51,51,51)",
            "ticks": "outside"
           },
           "bgcolor": "rgb(237,237,237)",
           "radialaxis": {
            "gridcolor": "white",
            "linecolor": "white",
            "showgrid": true,
            "tickcolor": "rgb(51,51,51)",
            "ticks": "outside"
           }
          },
          "scene": {
           "xaxis": {
            "backgroundcolor": "rgb(237,237,237)",
            "gridcolor": "white",
            "gridwidth": 2,
            "linecolor": "white",
            "showbackground": true,
            "showgrid": true,
            "tickcolor": "rgb(51,51,51)",
            "ticks": "outside",
            "zerolinecolor": "white"
           },
           "yaxis": {
            "backgroundcolor": "rgb(237,237,237)",
            "gridcolor": "white",
            "gridwidth": 2,
            "linecolor": "white",
            "showbackground": true,
            "showgrid": true,
            "tickcolor": "rgb(51,51,51)",
            "ticks": "outside",
            "zerolinecolor": "white"
           },
           "zaxis": {
            "backgroundcolor": "rgb(237,237,237)",
            "gridcolor": "white",
            "gridwidth": 2,
            "linecolor": "white",
            "showbackground": true,
            "showgrid": true,
            "tickcolor": "rgb(51,51,51)",
            "ticks": "outside",
            "zerolinecolor": "white"
           }
          },
          "shapedefaults": {
           "fillcolor": "black",
           "line": {
            "width": 0
           },
           "opacity": 0.3
          },
          "ternary": {
           "aaxis": {
            "gridcolor": "white",
            "linecolor": "white",
            "showgrid": true,
            "tickcolor": "rgb(51,51,51)",
            "ticks": "outside"
           },
           "baxis": {
            "gridcolor": "white",
            "linecolor": "white",
            "showgrid": true,
            "tickcolor": "rgb(51,51,51)",
            "ticks": "outside"
           },
           "bgcolor": "rgb(237,237,237)",
           "caxis": {
            "gridcolor": "white",
            "linecolor": "white",
            "showgrid": true,
            "tickcolor": "rgb(51,51,51)",
            "ticks": "outside"
           }
          },
          "xaxis": {
           "automargin": true,
           "gridcolor": "white",
           "linecolor": "white",
           "showgrid": true,
           "tickcolor": "rgb(51,51,51)",
           "ticks": "outside",
           "title": {
            "standoff": 15
           },
           "zerolinecolor": "white"
          },
          "yaxis": {
           "automargin": true,
           "gridcolor": "white",
           "linecolor": "white",
           "showgrid": true,
           "tickcolor": "rgb(51,51,51)",
           "ticks": "outside",
           "title": {
            "standoff": 15
           },
           "zerolinecolor": "white"
          }
         }
        },
        "title": {
         "text": "Average income in million KRW males and females (South Korea 2005 - 2018)"
        },
        "xaxis": {
         "anchor": "y",
         "domain": [
          0,
          1
         ],
         "range": [
          2004,
          2019
         ],
         "title": {
          "text": "year"
         }
        },
        "yaxis": {
         "anchor": "x",
         "domain": [
          0,
          1
         ],
         "range": [
          0,
          10000
         ],
         "title": {
          "text": "value"
         }
        }
       }
      },
      "text/html": [
       "<div>                            <div id=\"c22ca205-a53d-4b30-ac6b-7059d9f8fbc0\" class=\"plotly-graph-div\" style=\"height:400px; width:100%;\"></div>            <script type=\"text/javascript\">                require([\"plotly\"], function(Plotly) {                    window.PLOTLYENV=window.PLOTLYENV || {};                                    if (document.getElementById(\"c22ca205-a53d-4b30-ac6b-7059d9f8fbc0\")) {                    Plotly.newPlot(                        \"c22ca205-a53d-4b30-ac6b-7059d9f8fbc0\",                        [{\"alignmentgroup\":\"True\",\"hovertemplate\":\"variable=income females<br>year=%{x}<br>value=%{y}<extra></extra>\",\"legendgroup\":\"income females\",\"marker\":{\"color\":\"#F8766D\",\"pattern\":{\"shape\":\"\"}},\"name\":\"income females\",\"offsetgroup\":\"income females\",\"orientation\":\"v\",\"showlegend\":true,\"textposition\":\"auto\",\"x\":[2005,2006,2007,2008,2009,2010,2011,2012,2013,2014,2015,2016,2017,2018],\"xaxis\":\"x\",\"y\":[1090.3558616647128,1244.0545751062273,1357.6025578562728,1494.7156438026473,1610.4664076509264,1648.9238355609355,1576.135592459605,1637.0726114649683,1653.1302807179015,1654.458166058394,1786.4752187931829,1909.4703362505759,2031.4254454088625,2089.102809765085],\"yaxis\":\"y\",\"type\":\"bar\"},{\"alignmentgroup\":\"True\",\"hovertemplate\":\"variable=income males<br>year=%{x}<br>value=%{y}<extra></extra>\",\"legendgroup\":\"income males\",\"marker\":{\"color\":\"#A3A500\",\"pattern\":{\"shape\":\"\"}},\"name\":\"income males\",\"offsetgroup\":\"income males\",\"orientation\":\"v\",\"showlegend\":true,\"textposition\":\"auto\",\"x\":[2005,2006,2007,2008,2009,2010,2011,2012,2013,2014,2015,2016,2017,2018],\"xaxis\":\"x\",\"y\":[2756.578127354936,3194.6471150396746,3506.3411994840926,3700.392285651312,3956.53066707307,4161.69469179897,4068.344784580499,4339.856224269752,4495.3456088029625,4671.35187064571,4913.75084820445,5105.351148510348,5314.9976746903485,5435.828960038517],\"yaxis\":\"y\",\"type\":\"bar\"}],                        {\"template\":{\"data\":{\"barpolar\":[{\"marker\":{\"line\":{\"color\":\"rgb(237,237,237)\",\"width\":0.5},\"pattern\":{\"fillmode\":\"overlay\",\"size\":10,\"solidity\":0.2}},\"type\":\"barpolar\"}],\"bar\":[{\"error_x\":{\"color\":\"rgb(51,51,51)\"},\"error_y\":{\"color\":\"rgb(51,51,51)\"},\"marker\":{\"line\":{\"color\":\"rgb(237,237,237)\",\"width\":0.5},\"pattern\":{\"fillmode\":\"overlay\",\"size\":10,\"solidity\":0.2}},\"type\":\"bar\"}],\"carpet\":[{\"aaxis\":{\"endlinecolor\":\"rgb(51,51,51)\",\"gridcolor\":\"white\",\"linecolor\":\"white\",\"minorgridcolor\":\"white\",\"startlinecolor\":\"rgb(51,51,51)\"},\"baxis\":{\"endlinecolor\":\"rgb(51,51,51)\",\"gridcolor\":\"white\",\"linecolor\":\"white\",\"minorgridcolor\":\"white\",\"startlinecolor\":\"rgb(51,51,51)\"},\"type\":\"carpet\"}],\"choropleth\":[{\"colorbar\":{\"outlinewidth\":0,\"tickcolor\":\"rgb(237,237,237)\",\"ticklen\":6,\"ticks\":\"inside\"},\"type\":\"choropleth\"}],\"contourcarpet\":[{\"colorbar\":{\"outlinewidth\":0,\"tickcolor\":\"rgb(237,237,237)\",\"ticklen\":6,\"ticks\":\"inside\"},\"type\":\"contourcarpet\"}],\"contour\":[{\"colorbar\":{\"outlinewidth\":0,\"tickcolor\":\"rgb(237,237,237)\",\"ticklen\":6,\"ticks\":\"inside\"},\"colorscale\":[[0,\"rgb(20,44,66)\"],[1,\"rgb(90,179,244)\"]],\"type\":\"contour\"}],\"heatmapgl\":[{\"colorbar\":{\"outlinewidth\":0,\"tickcolor\":\"rgb(237,237,237)\",\"ticklen\":6,\"ticks\":\"inside\"},\"colorscale\":[[0,\"rgb(20,44,66)\"],[1,\"rgb(90,179,244)\"]],\"type\":\"heatmapgl\"}],\"heatmap\":[{\"colorbar\":{\"outlinewidth\":0,\"tickcolor\":\"rgb(237,237,237)\",\"ticklen\":6,\"ticks\":\"inside\"},\"colorscale\":[[0,\"rgb(20,44,66)\"],[1,\"rgb(90,179,244)\"]],\"type\":\"heatmap\"}],\"histogram2dcontour\":[{\"colorbar\":{\"outlinewidth\":0,\"tickcolor\":\"rgb(237,237,237)\",\"ticklen\":6,\"ticks\":\"inside\"},\"colorscale\":[[0,\"rgb(20,44,66)\"],[1,\"rgb(90,179,244)\"]],\"type\":\"histogram2dcontour\"}],\"histogram2d\":[{\"colorbar\":{\"outlinewidth\":0,\"tickcolor\":\"rgb(237,237,237)\",\"ticklen\":6,\"ticks\":\"inside\"},\"colorscale\":[[0,\"rgb(20,44,66)\"],[1,\"rgb(90,179,244)\"]],\"type\":\"histogram2d\"}],\"histogram\":[{\"marker\":{\"pattern\":{\"fillmode\":\"overlay\",\"size\":10,\"solidity\":0.2}},\"type\":\"histogram\"}],\"mesh3d\":[{\"colorbar\":{\"outlinewidth\":0,\"tickcolor\":\"rgb(237,237,237)\",\"ticklen\":6,\"ticks\":\"inside\"},\"type\":\"mesh3d\"}],\"parcoords\":[{\"line\":{\"colorbar\":{\"outlinewidth\":0,\"tickcolor\":\"rgb(237,237,237)\",\"ticklen\":6,\"ticks\":\"inside\"}},\"type\":\"parcoords\"}],\"pie\":[{\"automargin\":true,\"type\":\"pie\"}],\"scatter3d\":[{\"line\":{\"colorbar\":{\"outlinewidth\":0,\"tickcolor\":\"rgb(237,237,237)\",\"ticklen\":6,\"ticks\":\"inside\"}},\"marker\":{\"colorbar\":{\"outlinewidth\":0,\"tickcolor\":\"rgb(237,237,237)\",\"ticklen\":6,\"ticks\":\"inside\"}},\"type\":\"scatter3d\"}],\"scattercarpet\":[{\"marker\":{\"colorbar\":{\"outlinewidth\":0,\"tickcolor\":\"rgb(237,237,237)\",\"ticklen\":6,\"ticks\":\"inside\"}},\"type\":\"scattercarpet\"}],\"scattergeo\":[{\"marker\":{\"colorbar\":{\"outlinewidth\":0,\"tickcolor\":\"rgb(237,237,237)\",\"ticklen\":6,\"ticks\":\"inside\"}},\"type\":\"scattergeo\"}],\"scattergl\":[{\"marker\":{\"colorbar\":{\"outlinewidth\":0,\"tickcolor\":\"rgb(237,237,237)\",\"ticklen\":6,\"ticks\":\"inside\"}},\"type\":\"scattergl\"}],\"scattermapbox\":[{\"marker\":{\"colorbar\":{\"outlinewidth\":0,\"tickcolor\":\"rgb(237,237,237)\",\"ticklen\":6,\"ticks\":\"inside\"}},\"type\":\"scattermapbox\"}],\"scatterpolargl\":[{\"marker\":{\"colorbar\":{\"outlinewidth\":0,\"tickcolor\":\"rgb(237,237,237)\",\"ticklen\":6,\"ticks\":\"inside\"}},\"type\":\"scatterpolargl\"}],\"scatterpolar\":[{\"marker\":{\"colorbar\":{\"outlinewidth\":0,\"tickcolor\":\"rgb(237,237,237)\",\"ticklen\":6,\"ticks\":\"inside\"}},\"type\":\"scatterpolar\"}],\"scatter\":[{\"fillpattern\":{\"fillmode\":\"overlay\",\"size\":10,\"solidity\":0.2},\"type\":\"scatter\"}],\"scatterternary\":[{\"marker\":{\"colorbar\":{\"outlinewidth\":0,\"tickcolor\":\"rgb(237,237,237)\",\"ticklen\":6,\"ticks\":\"inside\"}},\"type\":\"scatterternary\"}],\"surface\":[{\"colorbar\":{\"outlinewidth\":0,\"tickcolor\":\"rgb(237,237,237)\",\"ticklen\":6,\"ticks\":\"inside\"},\"colorscale\":[[0,\"rgb(20,44,66)\"],[1,\"rgb(90,179,244)\"]],\"type\":\"surface\"}],\"table\":[{\"cells\":{\"fill\":{\"color\":\"rgb(237,237,237)\"},\"line\":{\"color\":\"white\"}},\"header\":{\"fill\":{\"color\":\"rgb(217,217,217)\"},\"line\":{\"color\":\"white\"}},\"type\":\"table\"}]},\"layout\":{\"annotationdefaults\":{\"arrowhead\":0,\"arrowwidth\":1},\"autotypenumbers\":\"strict\",\"coloraxis\":{\"colorbar\":{\"outlinewidth\":0,\"tickcolor\":\"rgb(237,237,237)\",\"ticklen\":6,\"ticks\":\"inside\"}},\"colorscale\":{\"sequential\":[[0,\"rgb(20,44,66)\"],[1,\"rgb(90,179,244)\"]],\"sequentialminus\":[[0,\"rgb(20,44,66)\"],[1,\"rgb(90,179,244)\"]]},\"colorway\":[\"#F8766D\",\"#A3A500\",\"#00BF7D\",\"#00B0F6\",\"#E76BF3\"],\"font\":{\"color\":\"rgb(51,51,51)\"},\"geo\":{\"bgcolor\":\"white\",\"lakecolor\":\"white\",\"landcolor\":\"rgb(237,237,237)\",\"showlakes\":true,\"showland\":true,\"subunitcolor\":\"white\"},\"hoverlabel\":{\"align\":\"left\"},\"hovermode\":\"closest\",\"paper_bgcolor\":\"white\",\"plot_bgcolor\":\"rgb(237,237,237)\",\"polar\":{\"angularaxis\":{\"gridcolor\":\"white\",\"linecolor\":\"white\",\"showgrid\":true,\"tickcolor\":\"rgb(51,51,51)\",\"ticks\":\"outside\"},\"bgcolor\":\"rgb(237,237,237)\",\"radialaxis\":{\"gridcolor\":\"white\",\"linecolor\":\"white\",\"showgrid\":true,\"tickcolor\":\"rgb(51,51,51)\",\"ticks\":\"outside\"}},\"scene\":{\"xaxis\":{\"backgroundcolor\":\"rgb(237,237,237)\",\"gridcolor\":\"white\",\"gridwidth\":2,\"linecolor\":\"white\",\"showbackground\":true,\"showgrid\":true,\"tickcolor\":\"rgb(51,51,51)\",\"ticks\":\"outside\",\"zerolinecolor\":\"white\"},\"yaxis\":{\"backgroundcolor\":\"rgb(237,237,237)\",\"gridcolor\":\"white\",\"gridwidth\":2,\"linecolor\":\"white\",\"showbackground\":true,\"showgrid\":true,\"tickcolor\":\"rgb(51,51,51)\",\"ticks\":\"outside\",\"zerolinecolor\":\"white\"},\"zaxis\":{\"backgroundcolor\":\"rgb(237,237,237)\",\"gridcolor\":\"white\",\"gridwidth\":2,\"linecolor\":\"white\",\"showbackground\":true,\"showgrid\":true,\"tickcolor\":\"rgb(51,51,51)\",\"ticks\":\"outside\",\"zerolinecolor\":\"white\"}},\"shapedefaults\":{\"fillcolor\":\"black\",\"line\":{\"width\":0},\"opacity\":0.3},\"ternary\":{\"aaxis\":{\"gridcolor\":\"white\",\"linecolor\":\"white\",\"showgrid\":true,\"tickcolor\":\"rgb(51,51,51)\",\"ticks\":\"outside\"},\"baxis\":{\"gridcolor\":\"white\",\"linecolor\":\"white\",\"showgrid\":true,\"tickcolor\":\"rgb(51,51,51)\",\"ticks\":\"outside\"},\"bgcolor\":\"rgb(237,237,237)\",\"caxis\":{\"gridcolor\":\"white\",\"linecolor\":\"white\",\"showgrid\":true,\"tickcolor\":\"rgb(51,51,51)\",\"ticks\":\"outside\"}},\"xaxis\":{\"automargin\":true,\"gridcolor\":\"white\",\"linecolor\":\"white\",\"showgrid\":true,\"tickcolor\":\"rgb(51,51,51)\",\"ticks\":\"outside\",\"title\":{\"standoff\":15},\"zerolinecolor\":\"white\"},\"yaxis\":{\"automargin\":true,\"gridcolor\":\"white\",\"linecolor\":\"white\",\"showgrid\":true,\"tickcolor\":\"rgb(51,51,51)\",\"ticks\":\"outside\",\"title\":{\"standoff\":15},\"zerolinecolor\":\"white\"}}},\"xaxis\":{\"anchor\":\"y\",\"domain\":[0.0,1.0],\"title\":{\"text\":\"year\"},\"range\":[2004,2019]},\"yaxis\":{\"anchor\":\"x\",\"domain\":[0.0,1.0],\"title\":{\"text\":\"value\"},\"range\":[0,10000]},\"legend\":{\"title\":{\"text\":\"variable\"},\"tracegroupgap\":0},\"margin\":{\"t\":60},\"barmode\":\"relative\",\"height\":400,\"title\":{\"text\":\"Average income in million KRW males and females (South Korea 2005 - 2018)\"},\"font\":{\"family\":\"Century, monospace\",\"color\":\"black\"},\"paper_bgcolor\":\"rgb(243, 243, 243)\",\"plot_bgcolor\":\"rgb(243, 243, 243)\"},                        {\"responsive\": true}                    ).then(function(){\n",
       "                            \n",
       "var gd = document.getElementById('c22ca205-a53d-4b30-ac6b-7059d9f8fbc0');\n",
       "var x = new MutationObserver(function (mutations, observer) {{\n",
       "        var display = window.getComputedStyle(gd).display;\n",
       "        if (!display || display === 'none') {{\n",
       "            console.log([gd, 'removed!']);\n",
       "            Plotly.purge(gd);\n",
       "            observer.disconnect();\n",
       "        }}\n",
       "}});\n",
       "\n",
       "// Listen for the removal of the full notebook cells\n",
       "var notebookContainer = gd.closest('#notebook-container');\n",
       "if (notebookContainer) {{\n",
       "    x.observe(notebookContainer, {childList: true});\n",
       "}}\n",
       "\n",
       "// Listen for the clearing of the current output cell\n",
       "var outputEl = gd.closest('.output');\n",
       "if (outputEl) {{\n",
       "    x.observe(outputEl, {childList: true});\n",
       "}}\n",
       "\n",
       "                        })                };                });            </script>        </div>"
      ]
     },
     "metadata": {},
     "output_type": "display_data"
    }
   ],
   "source": [
    "fig1 = px.bar(df1_males,x = 'year', \n",
    "              y = ['income females','income males'],\n",
    "              range_y=[0,10000],\n",
    "              range_x=[2004,2019]\n",
    "            ,height=400,\n",
    "              template='ggplot2')\n",
    "\n",
    "fig1.update_layout(paper_bgcolor='rgb(243, 243, 243)',plot_bgcolor='rgb(243, 243, 243)'\n",
    ",title_text='Average income in million KRW males and females (South Korea 2005 - 2018)',\n",
    "    font=dict(\n",
    "        family=\"Century, monospace\",\n",
    "        color=\"black\"\n",
    "    ))\n",
    "\n",
    "fig1.show()"
   ]
  }
 ],
 "metadata": {
  "kernelspec": {
   "display_name": "Python 3 (ipykernel)",
   "language": "python",
   "name": "python3"
  },
  "language_info": {
   "codemirror_mode": {
    "name": "ipython",
    "version": 3
   },
   "file_extension": ".py",
   "mimetype": "text/x-python",
   "name": "python",
   "nbconvert_exporter": "python",
   "pygments_lexer": "ipython3",
   "version": "3.9.13"
  }
 },
 "nbformat": 4,
 "nbformat_minor": 5
}
